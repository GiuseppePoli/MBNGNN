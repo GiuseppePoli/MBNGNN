{
  "cells": [
    {
      "cell_type": "code",
      "execution_count": null,
      "metadata": {
        "id": "4V_mqdC8yY2C"
      },
      "outputs": [],
      "source": [
        "from google.colab import drive\n",
        "drive.mount('/content/drive')\n",
        "\n",
        "import numpy as np\n",
        "import os\n",
        "import pandas as pd\n",
        "from pathlib import Path\n",
        "import scipy.io\n",
        "import h5py\n",
        "import sklearn\n",
        "import copy\n",
        "import matplotlib.pyplot as plt\n",
        "import seaborn as sns\n",
        "from sklearn.preprocessing import StandardScaler\n",
        "from sklearn.pipeline import Pipeline\n",
        "from sklearn.model_selection import train_test_split\n",
        "from sklearn.metrics import f1_score\n",
        "import scipy.stats as stats\n",
        "%cd /content/drive/MyDrive/TESI/"
      ]
    },
    {
      "cell_type": "markdown",
      "metadata": {
        "id": "Eg2AC5ttU74H"
      },
      "source": [
        "# **MIND Values Harmonization**"
      ]
    },
    {
      "cell_type": "code",
      "execution_count": null,
      "metadata": {
        "id": "wC_U5HSTu4zj"
      },
      "outputs": [],
      "source": [
        "matrices_path = '/content/drive/MyDrive/TESI/MINDMatrices/NeuromorphometricsNEW'"
      ]
    },
    {
      "cell_type": "code",
      "execution_count": null,
      "metadata": {
        "id": "ZJIUo5E-W9dp"
      },
      "outputs": [],
      "source": [
        "#build covariates dataframe\n",
        "\n",
        "strat_covars = pd.read_csv(\"MatchedDataNew.csv\", sep=';')\n",
        "\n",
        "sites = ['AOUV', 'FSL_Rome', 'JUH', 'MI_POLI_3T_3', 'OSR', 'PITTS', 'UBC']\n",
        "\n",
        "site_to_number = {site: index+1 for index, site in enumerate(sites)}\n",
        "\n",
        "strat_covars['Site'] = strat_covars['Site'].map(site_to_number)\n",
        "\n",
        "strat_covars = strat_covars.rename(columns={'Site': 'batch'})"
      ]
    },
    {
      "cell_type": "code",
      "execution_count": null,
      "metadata": {
        "id": "jJCINAIJyFlZ"
      },
      "outputs": [],
      "source": [
        "#load similarity matrices and flatten them\n",
        "\n",
        "flattened_matrices = []\n",
        "mind_matrices = []\n",
        "roi_values = []\n",
        "\n",
        "for site in sites:\n",
        "    site_path = os.path.join(matrices_path, site)\n",
        "    if os.path.exists(site_path):\n",
        "        mat_files = sorted(os.listdir(site_path))\n",
        "        print(f\"Found {len(mat_files)} files in {site} folder.\")\n",
        "\n",
        "        for file in mat_files:\n",
        "            file_path = os.path.join(site_path, file)\n",
        "\n",
        "            mat_data = scipy.io.loadmat(file_path)\n",
        "\n",
        "            mind_matrix = mat_data['mind_matrix']\n",
        "            mind_matrices.append(mind_matrix)\n",
        "\n",
        "            sum_roi_values = mat_data['sum_roi_values']\n",
        "            roi_values.append(sum_roi_values)\n",
        "\n",
        "            upper_triangle_indices = np.triu_indices(mind_matrix.shape[0], k=1)\n",
        "            upper_triangle_flattened = mind_matrix[upper_triangle_indices]\n",
        "\n",
        "            flattened_matrices.append(upper_triangle_flattened)\n"
      ]
    },
    {
      "cell_type": "code",
      "execution_count": null,
      "metadata": {
        "id": "HH4Lam5tJXes"
      },
      "outputs": [],
      "source": [
        "roi_values = [arr.flatten() for arr in roi_values]\n",
        "roi_data = pd.DataFrame(roi_values)"
      ]
    },
    {
      "cell_type": "code",
      "execution_count": null,
      "metadata": {
        "id": "L3N75p2X-XO6"
      },
      "outputs": [],
      "source": [
        "data_raw = pd.DataFrame(flattened_matrices)"
      ]
    },
    {
      "cell_type": "code",
      "execution_count": null,
      "metadata": {
        "id": "O6LsCB7q5GH6"
      },
      "outputs": [],
      "source": [
        "# Load TIV values\n",
        "tiv_data = pd.read_csv(\"StratiBip_covar.csv\", sep=',')\n",
        "\n",
        "for i in range(1, 8):\n",
        "  sorted_batch = tiv_data[tiv_data[\"Batch\"] == i].sort_values(by=\"SubjID\")\n",
        "  tiv_data.loc[tiv_data[\"Batch\"] == i] = sorted_batch.values\n",
        "\n",
        "tiv_values = tiv_data.TIV"
      ]
    },
    {
      "cell_type": "code",
      "execution_count": null,
      "metadata": {
        "id": "57GQfkMNe4gv"
      },
      "outputs": [],
      "source": [
        "#eliminate diagnosis = 2 (MDD)\n",
        "rows_to_delete = strat_covars[strat_covars['Dx'] == 2].index\n",
        "\n",
        "data_raw = data_raw.drop(rows_to_delete)\n",
        "strat_covars = strat_covars.drop(rows_to_delete)\n",
        "roi_data = roi_data.drop(rows_to_delete)\n",
        "tiv_values = tiv_values.drop(rows_to_delete)\n",
        "\n",
        "data_raw = data_raw.reset_index(drop=True)\n",
        "strat_covars = strat_covars.reset_index(drop=True)\n",
        "roi_data = roi_data.reset_index(drop=True)\n",
        "tiv_values = tiv_values.reset_index(drop=True)\n",
        "\n",
        "strat_covars.to_csv(\"MatchedData01.csv\", index=False)\n",
        "\n",
        "print(data_raw.shape)\n",
        "print(strat_covars.shape)\n",
        "print(roi_data.shape)\n",
        "tiv_values.shape"
      ]
    },
    {
      "cell_type": "code",
      "execution_count": null,
      "metadata": {
        "id": "TFbzO4BuyVYQ"
      },
      "outputs": [],
      "source": [
        "data_raw.to_csv('data_raw_nmm_new.csv', index=False)"
      ]
    },
    {
      "cell_type": "code",
      "execution_count": null,
      "metadata": {
        "id": "DO64o6iIB1mt"
      },
      "outputs": [],
      "source": [
        "#harmonization\n",
        "import sys\n",
        "sys.path.insert(0,'/content/drive/MyDrive/TESI/')\n",
        "\n",
        "import Confounder_Correction_Classes\n",
        "from Confounder_Correction_Classes import ComBatHarmonization"
      ]
    },
    {
      "cell_type": "code",
      "execution_count": null,
      "metadata": {
        "id": "1x0ZUR2ZaeKh"
      },
      "outputs": [],
      "source": [
        "volumes_columns = np.arange(0, data_raw.shape[1])\n",
        "\n",
        "feat_detail={'volumes':           {'id': volumes_columns,\n",
        "                                        'categorical': ['Gender'],\n",
        "                                        'continuous':['Age']}}\n",
        "\n",
        "combat_function=ComBatHarmonization(cv_method=None, ref_batch=None,\n",
        "                                           regression_fit=0,\n",
        "                                           feat_detail=feat_detail,\n",
        "                                           feat_of_no_interest=None)"
      ]
    },
    {
      "cell_type": "code",
      "execution_count": null,
      "metadata": {
        "id": "SKAMHqWFjCA5"
      },
      "outputs": [],
      "source": [
        "data_dict={'data': data_raw, 'covariates': strat_covars}\n",
        "\n",
        "data_harm=combat_function.fit_transform(data_dict)"
      ]
    },
    {
      "cell_type": "code",
      "execution_count": null,
      "metadata": {
        "id": "5-g-lb_5g55r"
      },
      "outputs": [],
      "source": [
        "data_harm = pd.DataFrame(data_harm)\n",
        "data_harm.to_csv('data_harm_nmm_new.csv', index=False)"
      ]
    },
    {
      "cell_type": "markdown",
      "metadata": {
        "id": "5YT6tSG84_rR"
      },
      "source": [
        "# **Roi Volumes Harmonization**"
      ]
    },
    {
      "cell_type": "code",
      "execution_count": null,
      "metadata": {
        "id": "Jmekq8zYNBWW"
      },
      "outputs": [],
      "source": [
        "# Normalize each ROI volume by the corresponding TIV\n",
        "roi_data_norm = roi_data.div(tiv_values, axis=0)"
      ]
    },
    {
      "cell_type": "code",
      "execution_count": null,
      "metadata": {
        "id": "6JCv_ZZaCWdU"
      },
      "outputs": [],
      "source": [
        "columns = np.arange(0, roi_data_norm.shape[1])\n",
        "\n",
        "feat_detail={'volumes':           {'id': columns,\n",
        "                                        'categorical': ['Gender'],\n",
        "                                        'continuous':['Age']}}\n",
        "\n",
        "combat_function=ComBatHarmonization(cv_method=None, ref_batch=None,\n",
        "                                           regression_fit=0,\n",
        "                                           feat_detail=feat_detail,\n",
        "                                           feat_of_no_interest=None)"
      ]
    },
    {
      "cell_type": "code",
      "execution_count": null,
      "metadata": {
        "id": "ptuw3MyuG5L6"
      },
      "outputs": [],
      "source": [
        "data_dict={'data': roi_data_norm, 'covariates': strat_covars}\n",
        "\n",
        "roi_data_harm=combat_function.fit_transform(data_dict)"
      ]
    },
    {
      "cell_type": "code",
      "execution_count": null,
      "metadata": {
        "id": "3W1-X5GkrpiK"
      },
      "outputs": [],
      "source": [
        "roi_data_harm = pd.DataFrame(roi_data_harm)\n",
        "roi_data_harm.to_csv('roi_data_harm_nmm_new.csv', index=False)"
      ]
    }
  ],
  "metadata": {
    "colab": {
      "collapsed_sections": [
        "Eg2AC5ttU74H",
        "5YT6tSG84_rR",
        "AipOk_gaf4HL",
        "iwqSoZ-ASgtM",
        "dKfkuV7NX-nw",
        "Maxtam4t0ee5",
        "0SYgl_Cv8NW5",
        "Y5gfEDW7aESm",
        "_9VkdgqMsi0Z",
        "jLRfDt2Ux5fN",
        "T4rCFG8LcmLq",
        "Ek88DZVppIJU",
        "smrEiWukbE7w",
        "h6h1Rri7T_7c",
        "p6y-_J2sNrlE",
        "IP4kI8B_iEEI",
        "Js8xoyewiEEJ",
        "TWitFPKYiEEK",
        "jPiD-dwpiEEK",
        "hTDyohdO9LqJ",
        "YLXts5uJiEEL",
        "O2nF6_kl0lnk",
        "bZZPBSpxa5na",
        "fft9RcsIiEEM",
        "XNHZQM3H3k7f",
        "usqHDtP65tSy",
        "oNbkuagmeAGz",
        "vN1eRQRQeKWv",
        "Bj9_S071AMsJ",
        "ux-c7yNAUNFQ"
      ],
      "provenance": []
    },
    "kernelspec": {
      "display_name": "Python 3",
      "name": "python3"
    },
    "language_info": {
      "name": "python"
    }
  },
  "nbformat": 4,
  "nbformat_minor": 0
}
